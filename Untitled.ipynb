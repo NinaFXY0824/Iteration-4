{
 "cells": [
  {
   "cell_type": "code",
   "execution_count": 1,
   "metadata": {},
   "outputs": [
    {
     "name": "stdout",
     "output_type": "stream",
     "text": [
      "Requirement already up-to-date: pip in /home/ubuntu/.local/lib/python3.5/site-packages (19.3.1)\r\n"
     ]
    }
   ],
   "source": [
    "!python3 -m pip install --upgrade pip\n"
   ]
  },
  {
   "cell_type": "code",
   "execution_count": 2,
   "metadata": {},
   "outputs": [
    {
     "name": "stdout",
     "output_type": "stream",
     "text": [
      "Requirement already satisfied: sklearn in /home/ubuntu/.local/lib/python3.5/site-packages (0.0)\r\n",
      "Requirement already satisfied: scikit-learn in /home/ubuntu/.local/lib/python3.5/site-packages (from sklearn) (0.21.3)\r\n",
      "Requirement already satisfied: scipy>=0.17.0 in /home/ubuntu/.local/lib/python3.5/site-packages (from scikit-learn->sklearn) (1.3.1)\r\n",
      "Requirement already satisfied: joblib>=0.11 in /home/ubuntu/.local/lib/python3.5/site-packages (from scikit-learn->sklearn) (0.14.0)\r\n",
      "Requirement already satisfied: numpy>=1.11.0 in /home/ubuntu/.local/lib/python3.5/site-packages (from scikit-learn->sklearn) (1.17.3)\r\n"
     ]
    }
   ],
   "source": [
    "!python3 -m pip install --user sklearn"
   ]
  },
  {
   "cell_type": "code",
   "execution_count": 3,
   "metadata": {},
   "outputs": [
    {
     "name": "stdout",
     "output_type": "stream",
     "text": [
      "Requirement already satisfied: seaborn in /home/ubuntu/.local/lib/python3.5/site-packages (0.9.0)\r\n",
      "Requirement already satisfied: matplotlib>=1.4.3 in /home/ubuntu/.local/lib/python3.5/site-packages (from seaborn) (2.2.2)\r\n",
      "Requirement already satisfied: scipy>=0.14.0 in /home/ubuntu/.local/lib/python3.5/site-packages (from seaborn) (1.3.1)\r\n",
      "Requirement already satisfied: numpy>=1.9.3 in /home/ubuntu/.local/lib/python3.5/site-packages (from seaborn) (1.17.3)\r\n",
      "Requirement already satisfied: pandas>=0.15.2 in /home/ubuntu/.local/lib/python3.5/site-packages (from seaborn) (0.23.4)\r\n",
      "Requirement already satisfied: six>=1.10 in /home/ubuntu/.local/lib/python3.5/site-packages (from matplotlib>=1.4.3->seaborn) (1.11.0)\r\n",
      "Requirement already satisfied: pytz in /home/ubuntu/.local/lib/python3.5/site-packages (from matplotlib>=1.4.3->seaborn) (2018.5)\r\n",
      "Requirement already satisfied: kiwisolver>=1.0.1 in /home/ubuntu/.local/lib/python3.5/site-packages (from matplotlib>=1.4.3->seaborn) (1.0.1)\r\n",
      "Requirement already satisfied: pyparsing!=2.0.4,!=2.1.2,!=2.1.6,>=2.0.1 in /home/ubuntu/.local/lib/python3.5/site-packages (from matplotlib>=1.4.3->seaborn) (2.2.0)\r\n",
      "Requirement already satisfied: python-dateutil>=2.1 in /home/ubuntu/.local/lib/python3.5/site-packages (from matplotlib>=1.4.3->seaborn) (2.7.3)\r\n",
      "Requirement already satisfied: cycler>=0.10 in /home/ubuntu/.local/lib/python3.5/site-packages (from matplotlib>=1.4.3->seaborn) (0.10.0)\r\n",
      "Requirement already satisfied: setuptools in /home/ubuntu/.local/lib/python3.5/site-packages (from kiwisolver>=1.0.1->matplotlib>=1.4.3->seaborn) (39.2.0)\r\n"
     ]
    }
   ],
   "source": [
    "!python3 -m pip install --user seaborn"
   ]
  }
 ],
 "metadata": {
  "kernelspec": {
   "display_name": "Python 3",
   "language": "python",
   "name": "python3"
  },
  "language_info": {
   "codemirror_mode": {
    "name": "ipython",
    "version": 3
   },
   "file_extension": ".py",
   "mimetype": "text/x-python",
   "name": "python",
   "nbconvert_exporter": "python",
   "pygments_lexer": "ipython3",
   "version": "3.5.2"
  }
 },
 "nbformat": 4,
 "nbformat_minor": 2
}
